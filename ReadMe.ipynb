{
 "cells": [
  {
   "cell_type": "markdown",
   "metadata": {},
   "source": [
    "# Municipal Data Pipeline (MDP)\n",
    "\n",
    "MDP is intended to enble resource constrained developers (e.g. students) to make use of open data platforms, especially GiS portals, where wrangling data may involve multiple computationally expensive spatial joins"
   ]
  },
  {
   "cell_type": "markdown",
   "metadata": {},
   "source": [
    "# How it Works \n",
    "\n",
    "For each chunk of data, MPD schedules user defined functions and passes them to a child process, ensuring all system resources are released at the end of an operation.\n",
    "\n",
    "The user is free to define their own data wrangling functions and include them in the pipeline, but MDP ships with built-ins intended to help you work with municipal data. These include functions that can pull data into the pipeline from open data portals, and typical operations like joins and groupbys. \n",
    " "
   ]
  },
  {
   "cell_type": "markdown",
   "metadata": {},
   "source": [
    "# What's Next for MDP \n",
    "* More API Queries \n",
    "* MySQL \n",
    "* Data from more cities! \n",
    "* PostGIS \n",
    "* Dask \n",
    "\n",
    "Plus: \n",
    "* Documentation Imporvements \n",
    "* Docker Images "
   ]
  },
  {
   "cell_type": "markdown",
   "metadata": {},
   "source": [
    "# Get In Touch \n",
    "<munidatapipelinedevelopment@gmail.com>"
   ]
  },
  {
   "cell_type": "markdown",
   "metadata": {},
   "source": [
    "# Contribute \n",
    "\n",
    "All countributions are welcome as we continue to report and fix bugs, improve documentation, and look to improve overall usuability. \n",
    "\n",
    "If you have any suggestions, we strongly encourage you to get in touch via email or: \n",
    "1. Clone the repository (git clone https://github.com/munidatadevelopmentpipeliner)\n",
    "2. Raise an issue or create a new branch with your issue request and changes \n",
    "3. Submit a pull request with your issue name and date "
   ]
  }
 ],
 "metadata": {
  "kernelspec": {
   "display_name": "Python 3",
   "language": "python",
   "name": "python3"
  },
  "language_info": {
   "codemirror_mode": {
    "name": "ipython",
    "version": 3
   },
   "file_extension": ".py",
   "mimetype": "text/x-python",
   "name": "python",
   "nbconvert_exporter": "python",
   "pygments_lexer": "ipython3",
   "version": "3.6.2"
  }
 },
 "nbformat": 4,
 "nbformat_minor": 2
}
